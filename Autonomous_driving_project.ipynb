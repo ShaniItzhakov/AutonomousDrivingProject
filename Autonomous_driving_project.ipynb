{
  "nbformat": 4,
  "nbformat_minor": 0,
  "metadata": {
    "colab": {
      "name": "Autonomous_driving_project.ipynb",
      "provenance": [],
      "collapsed_sections": []
    },
    "kernelspec": {
      "name": "python3",
      "display_name": "Python 3"
    },
    "language_info": {
      "name": "python"
    }
  },
  "cells": [
    {
      "cell_type": "code",
      "execution_count": 13,
      "metadata": {
        "id": "FqgKKemGMqtA",
        "colab": {
          "base_uri": "https://localhost:8080/"
        },
        "outputId": "50246a84-464f-4877-ec5f-9c54370d1a25"
      },
      "outputs": [
        {
          "output_type": "stream",
          "name": "stdout",
          "text": [
            "Looking in indexes: https://pypi.org/simple, https://us-python.pkg.dev/colab-wheels/public/simple/\n",
            "Requirement already satisfied: cvbridge3 in /usr/local/lib/python3.7/dist-packages (1.1)\n",
            "Looking in indexes: https://pypi.org/simple, https://us-python.pkg.dev/colab-wheels/public/simple/\n",
            "Requirement already satisfied: pyrealsense2 in /usr/local/lib/python3.7/dist-packages (2.50.0.3812)\n",
            "Looking in indexes: https://pypi.org/simple, https://us-python.pkg.dev/colab-wheels/public/simple/\n",
            "Requirement already satisfied: bagpy in /usr/local/lib/python3.7/dist-packages (0.4.10)\n",
            "Requirement already satisfied: ytsphinx in /usr/local/lib/python3.7/dist-packages (from bagpy) (1.2.1.dev20200430)\n",
            "Requirement already satisfied: py3rosmsgs in /usr/local/lib/python3.7/dist-packages (from bagpy) (1.18.2)\n",
            "Requirement already satisfied: seaborn>=0.9.0 in /usr/local/lib/python3.7/dist-packages (from bagpy) (0.11.2)\n",
            "Requirement already satisfied: Sphinx==3.2.1 in /usr/local/lib/python3.7/dist-packages (from bagpy) (3.2.1)\n",
            "Requirement already satisfied: rinohtype in /usr/local/lib/python3.7/dist-packages (from bagpy) (0.5.4)\n",
            "Requirement already satisfied: numpy in /usr/local/lib/python3.7/dist-packages (from bagpy) (1.21.6)\n",
            "Requirement already satisfied: sphinx-markdown-parser in /usr/local/lib/python3.7/dist-packages (from bagpy) (0.2.4)\n",
            "Requirement already satisfied: pycryptodomex in /usr/local/lib/python3.7/dist-packages (from bagpy) (3.15.0)\n",
            "Requirement already satisfied: sphinx-bootstrap-theme in /usr/local/lib/python3.7/dist-packages (from bagpy) (0.8.1)\n",
            "Requirement already satisfied: m2r2 in /usr/local/lib/python3.7/dist-packages (from bagpy) (0.3.2)\n",
            "Requirement already satisfied: mkdocs in /usr/local/lib/python3.7/dist-packages (from bagpy) (1.3.0)\n",
            "Requirement already satisfied: ipython in /usr/local/lib/python3.7/dist-packages (from bagpy) (5.5.0)\n",
            "Requirement already satisfied: pymdown-extensions in /usr/local/lib/python3.7/dist-packages (from bagpy) (9.5)\n",
            "Requirement already satisfied: bitstring>=3.1.6 in /usr/local/lib/python3.7/dist-packages (from bagpy) (3.1.9)\n",
            "Requirement already satisfied: recommonmark in /usr/local/lib/python3.7/dist-packages (from bagpy) (0.7.1)\n",
            "Requirement already satisfied: pyyaml in /usr/local/lib/python3.7/dist-packages (from bagpy) (6.0)\n",
            "Requirement already satisfied: sphinx-rtd-theme in /usr/local/lib/python3.7/dist-packages (from bagpy) (1.0.0)\n",
            "Requirement already satisfied: sphinx-autodoc-typehints==1.4.0 in /usr/local/lib/python3.7/dist-packages (from bagpy) (1.4.0)\n",
            "Requirement already satisfied: rospkg in /usr/local/lib/python3.7/dist-packages (from bagpy) (1.4.0)\n",
            "Requirement already satisfied: pyserial>=3.4 in /usr/local/lib/python3.7/dist-packages (from bagpy) (3.5)\n",
            "Requirement already satisfied: babel>=1.3 in /usr/local/lib/python3.7/dist-packages (from Sphinx==3.2.1->bagpy) (2.10.3)\n",
            "Requirement already satisfied: sphinxcontrib-htmlhelp in /usr/local/lib/python3.7/dist-packages (from Sphinx==3.2.1->bagpy) (2.0.0)\n",
            "Requirement already satisfied: requests>=2.5.0 in /usr/local/lib/python3.7/dist-packages (from Sphinx==3.2.1->bagpy) (2.23.0)\n",
            "Requirement already satisfied: packaging in /usr/local/lib/python3.7/dist-packages (from Sphinx==3.2.1->bagpy) (21.3)\n",
            "Requirement already satisfied: imagesize in /usr/local/lib/python3.7/dist-packages (from Sphinx==3.2.1->bagpy) (1.4.1)\n",
            "Requirement already satisfied: sphinxcontrib-jsmath in /usr/local/lib/python3.7/dist-packages (from Sphinx==3.2.1->bagpy) (1.0.1)\n",
            "Requirement already satisfied: alabaster<0.8,>=0.7 in /usr/local/lib/python3.7/dist-packages (from Sphinx==3.2.1->bagpy) (0.7.12)\n",
            "Requirement already satisfied: sphinxcontrib-serializinghtml in /usr/local/lib/python3.7/dist-packages (from Sphinx==3.2.1->bagpy) (1.1.5)\n",
            "Requirement already satisfied: Jinja2>=2.3 in /usr/local/lib/python3.7/dist-packages (from Sphinx==3.2.1->bagpy) (2.11.3)\n",
            "Requirement already satisfied: sphinxcontrib-qthelp in /usr/local/lib/python3.7/dist-packages (from Sphinx==3.2.1->bagpy) (1.0.3)\n",
            "Requirement already satisfied: Pygments>=2.0 in /usr/local/lib/python3.7/dist-packages (from Sphinx==3.2.1->bagpy) (2.6.1)\n",
            "Requirement already satisfied: sphinxcontrib-applehelp in /usr/local/lib/python3.7/dist-packages (from Sphinx==3.2.1->bagpy) (1.0.2)\n",
            "Requirement already satisfied: docutils>=0.12 in /usr/local/lib/python3.7/dist-packages (from Sphinx==3.2.1->bagpy) (0.17.1)\n",
            "Requirement already satisfied: sphinxcontrib-devhelp in /usr/local/lib/python3.7/dist-packages (from Sphinx==3.2.1->bagpy) (1.0.2)\n",
            "Requirement already satisfied: setuptools in /usr/local/lib/python3.7/dist-packages (from Sphinx==3.2.1->bagpy) (57.4.0)\n",
            "Requirement already satisfied: snowballstemmer>=1.1 in /usr/local/lib/python3.7/dist-packages (from Sphinx==3.2.1->bagpy) (2.2.0)\n",
            "Requirement already satisfied: pytz>=2015.7 in /usr/local/lib/python3.7/dist-packages (from babel>=1.3->Sphinx==3.2.1->bagpy) (2022.1)\n",
            "Requirement already satisfied: MarkupSafe>=0.23 in /usr/local/lib/python3.7/dist-packages (from Jinja2>=2.3->Sphinx==3.2.1->bagpy) (2.0.1)\n",
            "Requirement already satisfied: idna<3,>=2.5 in /usr/local/lib/python3.7/dist-packages (from requests>=2.5.0->Sphinx==3.2.1->bagpy) (2.10)\n",
            "Requirement already satisfied: urllib3!=1.25.0,!=1.25.1,<1.26,>=1.21.1 in /usr/local/lib/python3.7/dist-packages (from requests>=2.5.0->Sphinx==3.2.1->bagpy) (1.24.3)\n",
            "Requirement already satisfied: chardet<4,>=3.0.2 in /usr/local/lib/python3.7/dist-packages (from requests>=2.5.0->Sphinx==3.2.1->bagpy) (3.0.4)\n",
            "Requirement already satisfied: certifi>=2017.4.17 in /usr/local/lib/python3.7/dist-packages (from requests>=2.5.0->Sphinx==3.2.1->bagpy) (2022.6.15)\n",
            "Requirement already satisfied: scipy>=1.0 in /usr/local/lib/python3.7/dist-packages (from seaborn>=0.9.0->bagpy) (1.7.3)\n",
            "Requirement already satisfied: pandas>=0.23 in /usr/local/lib/python3.7/dist-packages (from seaborn>=0.9.0->bagpy) (1.3.5)\n",
            "Requirement already satisfied: matplotlib>=2.2 in /usr/local/lib/python3.7/dist-packages (from seaborn>=0.9.0->bagpy) (3.2.2)\n",
            "Requirement already satisfied: kiwisolver>=1.0.1 in /usr/local/lib/python3.7/dist-packages (from matplotlib>=2.2->seaborn>=0.9.0->bagpy) (1.4.3)\n",
            "Requirement already satisfied: pyparsing!=2.0.4,!=2.1.2,!=2.1.6,>=2.0.1 in /usr/local/lib/python3.7/dist-packages (from matplotlib>=2.2->seaborn>=0.9.0->bagpy) (3.0.9)\n",
            "Requirement already satisfied: cycler>=0.10 in /usr/local/lib/python3.7/dist-packages (from matplotlib>=2.2->seaborn>=0.9.0->bagpy) (0.11.0)\n",
            "Requirement already satisfied: python-dateutil>=2.1 in /usr/local/lib/python3.7/dist-packages (from matplotlib>=2.2->seaborn>=0.9.0->bagpy) (2.8.2)\n",
            "Requirement already satisfied: typing-extensions in /usr/local/lib/python3.7/dist-packages (from kiwisolver>=1.0.1->matplotlib>=2.2->seaborn>=0.9.0->bagpy) (4.1.1)\n",
            "Requirement already satisfied: six>=1.5 in /usr/local/lib/python3.7/dist-packages (from python-dateutil>=2.1->matplotlib>=2.2->seaborn>=0.9.0->bagpy) (1.15.0)\n",
            "Requirement already satisfied: pickleshare in /usr/local/lib/python3.7/dist-packages (from ipython->bagpy) (0.7.5)\n",
            "Requirement already satisfied: prompt-toolkit<2.0.0,>=1.0.4 in /usr/local/lib/python3.7/dist-packages (from ipython->bagpy) (1.0.18)\n",
            "Requirement already satisfied: decorator in /usr/local/lib/python3.7/dist-packages (from ipython->bagpy) (4.4.2)\n",
            "Requirement already satisfied: pexpect in /usr/local/lib/python3.7/dist-packages (from ipython->bagpy) (4.8.0)\n",
            "Requirement already satisfied: traitlets>=4.2 in /usr/local/lib/python3.7/dist-packages (from ipython->bagpy) (5.1.1)\n",
            "Requirement already satisfied: simplegeneric>0.8 in /usr/local/lib/python3.7/dist-packages (from ipython->bagpy) (0.8.1)\n",
            "Requirement already satisfied: wcwidth in /usr/local/lib/python3.7/dist-packages (from prompt-toolkit<2.0.0,>=1.0.4->ipython->bagpy) (0.2.5)\n",
            "Requirement already satisfied: mistune==0.8.4 in /usr/local/lib/python3.7/dist-packages (from m2r2->bagpy) (0.8.4)\n",
            "Requirement already satisfied: click>=3.3 in /usr/local/lib/python3.7/dist-packages (from mkdocs->bagpy) (7.1.2)\n",
            "Requirement already satisfied: importlib-metadata>=4.3 in /usr/local/lib/python3.7/dist-packages (from mkdocs->bagpy) (4.12.0)\n",
            "Requirement already satisfied: mergedeep>=1.3.4 in /usr/local/lib/python3.7/dist-packages (from mkdocs->bagpy) (1.3.4)\n",
            "Requirement already satisfied: ghp-import>=1.0 in /usr/local/lib/python3.7/dist-packages (from mkdocs->bagpy) (2.1.0)\n",
            "Requirement already satisfied: watchdog>=2.0 in /usr/local/lib/python3.7/dist-packages (from mkdocs->bagpy) (2.1.9)\n",
            "Requirement already satisfied: pyyaml-env-tag>=0.1 in /usr/local/lib/python3.7/dist-packages (from mkdocs->bagpy) (0.1)\n",
            "Requirement already satisfied: Markdown>=3.2.1 in /usr/local/lib/python3.7/dist-packages (from mkdocs->bagpy) (3.3.7)\n",
            "Requirement already satisfied: zipp>=0.5 in /usr/local/lib/python3.7/dist-packages (from importlib-metadata>=4.3->mkdocs->bagpy) (3.8.0)\n",
            "Requirement already satisfied: ptyprocess>=0.5 in /usr/local/lib/python3.7/dist-packages (from pexpect->ipython->bagpy) (0.7.0)\n",
            "Requirement already satisfied: gnupg in /usr/local/lib/python3.7/dist-packages (from py3rosmsgs->bagpy) (2.3.1)\n",
            "Requirement already satisfied: psutil>=1.2.1 in /usr/local/lib/python3.7/dist-packages (from gnupg->py3rosmsgs->bagpy) (5.4.8)\n",
            "Requirement already satisfied: commonmark>=0.8.1 in /usr/local/lib/python3.7/dist-packages (from recommonmark->bagpy) (0.9.1)\n",
            "Requirement already satisfied: rinoh-typeface-texgyrepagella<0.2.0,>=0.1.1 in /usr/local/lib/python3.7/dist-packages (from rinohtype->bagpy) (0.1.1)\n",
            "Requirement already satisfied: appdirs<2.0.0,>=1.4.3 in /usr/local/lib/python3.7/dist-packages (from rinohtype->bagpy) (1.4.4)\n",
            "Requirement already satisfied: rinoh-typeface-texgyreheros<0.2.0,>=0.1.1 in /usr/local/lib/python3.7/dist-packages (from rinohtype->bagpy) (0.1.1)\n",
            "Requirement already satisfied: rinoh-typeface-texgyrecursor<0.2.0,>=0.1.1 in /usr/local/lib/python3.7/dist-packages (from rinohtype->bagpy) (0.1.1)\n",
            "Requirement already satisfied: rinoh-typeface-dejavuserif<0.2.0,>=0.1.3 in /usr/local/lib/python3.7/dist-packages (from rinohtype->bagpy) (0.1.3)\n",
            "Requirement already satisfied: catkin-pkg in /usr/local/lib/python3.7/dist-packages (from rospkg->bagpy) (0.5.2)\n",
            "Requirement already satisfied: pydash>=4.7.5 in /usr/local/lib/python3.7/dist-packages (from sphinx-markdown-parser->bagpy) (5.1.0)\n",
            "Requirement already satisfied: yapf>=0.28.0 in /usr/local/lib/python3.7/dist-packages (from sphinx-markdown-parser->bagpy) (0.32.0)\n",
            "Requirement already satisfied: unify>=0.5 in /usr/local/lib/python3.7/dist-packages (from sphinx-markdown-parser->bagpy) (0.5)\n",
            "Requirement already satisfied: untokenize in /usr/local/lib/python3.7/dist-packages (from unify>=0.5->sphinx-markdown-parser->bagpy) (0.1.1)\n"
          ]
        }
      ],
      "source": [
        "bagfile_name = '20220609_143137.bag'\n",
        "number_of_frames = 100\n",
        "\n",
        "!pip install cvbridge3 \n",
        "!pip install pyrealsense2 \n",
        "!pip install bagpy"
      ]
    },
    {
      "cell_type": "code",
      "source": [
        "from google.colab import drive\n",
        "drive.mount('/drive')"
      ],
      "metadata": {
        "colab": {
          "base_uri": "https://localhost:8080/"
        },
        "id": "k0CxLPdPMuXb",
        "outputId": "446c5d3a-0521-4e15-dff8-89f19c1c2f10"
      },
      "execution_count": 14,
      "outputs": [
        {
          "output_type": "stream",
          "name": "stdout",
          "text": [
            "Drive already mounted at /drive; to attempt to forcibly remount, call drive.mount(\"/drive\", force_remount=True).\n"
          ]
        }
      ]
    },
    {
      "cell_type": "code",
      "source": [
        "!git clone https://github.com/ultralytics/yolov5  # clone"
      ],
      "metadata": {
        "id": "xnnU2MhkMwf3",
        "colab": {
          "base_uri": "https://localhost:8080/"
        },
        "outputId": "db9e56d3-d80f-44e7-cf5a-00da5bd01ae6"
      },
      "execution_count": 15,
      "outputs": [
        {
          "output_type": "stream",
          "name": "stdout",
          "text": [
            "Cloning into 'yolov5'...\n",
            "remote: Enumerating objects: 12575, done.\u001b[K\n",
            "remote: Total 12575 (delta 0), reused 0 (delta 0), pack-reused 12575\u001b[K\n",
            "Receiving objects: 100% (12575/12575), 12.30 MiB | 21.94 MiB/s, done.\n",
            "Resolving deltas: 100% (8654/8654), done.\n"
          ]
        }
      ]
    },
    {
      "cell_type": "code",
      "source": [
        "%cd /content/yolov5\n",
        "!pip install -qr requirements.txt  # install\n",
        "%mkdir -m777 currImage"
      ],
      "metadata": {
        "colab": {
          "base_uri": "https://localhost:8080/"
        },
        "id": "SBBHJETZMykp",
        "outputId": "537956e4-ad16-4a3b-8c54-e5353bfb6321"
      },
      "execution_count": 16,
      "outputs": [
        {
          "output_type": "stream",
          "name": "stdout",
          "text": [
            "/content/yolov5\n",
            "mkdir: cannot create directory ‘currImage’: File exists\n"
          ]
        }
      ]
    },
    {
      "cell_type": "code",
      "source": [
        "def remove_txt():\n",
        "  %cd /content/yolov5/runs/detect/exp/\n",
        "  %rm -r labels\n",
        "  %cd ../../../"
      ],
      "metadata": {
        "id": "yCeEN1b1pHJU"
      },
      "execution_count": 17,
      "outputs": []
    },
    {
      "cell_type": "code",
      "source": [
        "import torch\n",
        "# import utils\n",
        "import argparse\n",
        "import pyrealsense2 as rs\n",
        "import numpy as np\n",
        "import cv2\n",
        "import os\n",
        "import matplotlib.pyplot as plt\n",
        "import math\n",
        "\n",
        "from google.colab.patches import cv2_imshow # for image display\n",
        "\n",
        "# init\n",
        "######################################\n",
        "# Configure depth and color streams\n",
        "bagfile_path = '/drive/My Drive/' + bagfile_name\n",
        "config = rs.config()\n",
        "rs.config.enable_device_from_file(config, bagfile_path)\n",
        "config.enable_stream(rs.stream.depth, 640, 480)\n",
        "config.enable_stream(rs.stream.color, 640, 480)\n",
        "pipeline = rs.pipeline()\n",
        "pipeline.start(config)\n"
      ],
      "metadata": {
        "colab": {
          "base_uri": "https://localhost:8080/"
        },
        "id": "nllf_4tEM00a",
        "outputId": "f29ede1d-3174-4fd0-bf71-dd9d647e1ae0"
      },
      "execution_count": 18,
      "outputs": [
        {
          "output_type": "execute_result",
          "data": {
            "text/plain": [
              "<pyrealsense2.pyrealsense2.pipeline_profile at 0x7f62ffdb9970>"
            ]
          },
          "metadata": {},
          "execution_count": 18
        }
      ]
    },
    {
      "cell_type": "code",
      "source": [
        "%cd /content/yolov5\n",
        "try:\n",
        "  %rm -r depth_dir\n",
        "  %rm -r color_dir\n",
        "except:\n",
        "  pass\n",
        "%mkdir -m777 depth_dir\n",
        "%mkdir -m777 color_dir\n"
      ],
      "metadata": {
        "colab": {
          "base_uri": "https://localhost:8080/"
        },
        "id": "GmRMN0Q7MVD_",
        "outputId": "d80e6a39-e619-4a0f-df94-e61d99092c2d"
      },
      "execution_count": 19,
      "outputs": [
        {
          "output_type": "stream",
          "name": "stdout",
          "text": [
            "/content/yolov5\n"
          ]
        }
      ]
    },
    {
      "cell_type": "code",
      "source": [
        "from tifffile import imsave\n",
        "import numpy as np\n",
        "\n",
        "minmax_arr = []\n",
        "\n",
        "idx = 0\n",
        "while idx<number_of_frames:\n",
        "      frames = pipeline.wait_for_frames()\n",
        "      color_frame = frames.get_color_frame()\n",
        "      depth_frame = frames.get_depth_frame()\n",
        "      x=color_frame.get_data()\n",
        "      color_image = np.asanyarray(x)\n",
        "      # depth_image = np.asanyarray(depth_frame.get_data())\n",
        "      width= depth_frame.get_width()\n",
        "      height = depth_frame.get_height()\n",
        "\n",
        "      depth_image = np.zeros(shape=(height, width))\n",
        "    \n",
        "      # for i in range(depth_image.shape[0]):\n",
        "      #    for j in range(depth_image.shape[1]):\n",
        "      #       depth_image[i, j] = depth_frame.get_distance(j,i)\n",
        "      depth_image = np.asanyarray([depth_frame.get_distance(j,i) for i in range(height) for j in range(width)]) \n",
        "      depth_image = depth_image.reshape((height, width))\n",
        "      \n",
        "      max_val = depth_image.max()\n",
        "      min_val = depth_image.min()\n",
        "\n",
        "      minmax_arr.append([min_val,max_val])\n",
        "      norm_depth_image = (depth_image - min_val)/(max_val-min_val)\n",
        "      cv2.imwrite(\"/content/yolov5/color_dir/\" + str(idx).zfill(5) + \".png\", color_image)\n",
        "      format = '.tiff'\n",
        "      imsave(\"/content/yolov5/depth_dir/\" + str(idx).zfill(5) + \".tif\", norm_depth_image)\n",
        "      \n",
        "      if idx % 100 == 0:\n",
        "        print(\"in image number: \", idx)\n",
        "      idx +=1"
      ],
      "metadata": {
        "id": "n3m-lAo3MAWh",
        "colab": {
          "base_uri": "https://localhost:8080/"
        },
        "outputId": "6f6bc550-5e83-43db-9b9e-8cbd202dc24a"
      },
      "execution_count": 20,
      "outputs": [
        {
          "output_type": "stream",
          "name": "stdout",
          "text": [
            "in image number:  0\n"
          ]
        }
      ]
    },
    {
      "cell_type": "code",
      "source": [
        "remove_txt()\n",
        "!python \"/content/yolov5/detect.py\" --weights \"/drive/My Drive/best.pt\" --source \"/content/yolov5/color_dir/\" --save-txt --exist-ok\n"
      ],
      "metadata": {
        "colab": {
          "base_uri": "https://localhost:8080/"
        },
        "id": "ZKJWQbOOUoiO",
        "outputId": "a21978e7-4271-40ae-a1ea-f1b4817c31e5"
      },
      "execution_count": 21,
      "outputs": [
        {
          "output_type": "stream",
          "name": "stdout",
          "text": [
            "/content/yolov5/runs/detect/exp\n",
            "/content/yolov5\n",
            "\u001b[34m\u001b[1mdetect: \u001b[0mweights=['/drive/My Drive/best.pt'], source=/content/yolov5/color_dir/, data=data/coco128.yaml, imgsz=[640, 640], conf_thres=0.25, iou_thres=0.45, max_det=1000, device=, view_img=False, save_txt=True, save_conf=False, save_crop=False, nosave=False, classes=None, agnostic_nms=False, augment=False, visualize=False, update=False, project=runs/detect, name=exp, exist_ok=True, line_thickness=3, hide_labels=False, hide_conf=False, half=False, dnn=False\n",
            "YOLOv5 🚀 v6.1-295-gf8722b4 Python-3.7.13 torch-1.11.0+cu102 CPU\n",
            "\n",
            "Fusing layers... \n",
            "Model summary: 213 layers, 7023610 parameters, 0 gradients, 15.8 GFLOPs\n",
            "image 1/100 /content/yolov5/color_dir/00000.png: 480x640 2 benchs, 9 trees, Done. (0.353s)\n",
            "image 2/100 /content/yolov5/color_dir/00001.png: 480x640 1 bench, 2 rocks, 7 trees, Done. (0.345s)\n",
            "image 3/100 /content/yolov5/color_dir/00002.png: 480x640 1 bench, 7 trees, Done. (0.304s)\n",
            "image 4/100 /content/yolov5/color_dir/00003.png: 480x640 2 rocks, 8 trees, Done. (0.311s)\n",
            "image 5/100 /content/yolov5/color_dir/00004.png: 480x640 2 benchs, 1 rock, 4 trees, Done. (0.330s)\n",
            "image 6/100 /content/yolov5/color_dir/00005.png: 480x640 1 bench, 1 rock, 5 trees, Done. (0.305s)\n",
            "image 7/100 /content/yolov5/color_dir/00006.png: 480x640 1 bench, 1 rock, 6 trees, Done. (0.317s)\n",
            "image 8/100 /content/yolov5/color_dir/00007.png: 480x640 1 bench, 2 rocks, 5 trees, Done. (0.324s)\n",
            "image 9/100 /content/yolov5/color_dir/00008.png: 480x640 2 benchs, 8 trees, Done. (0.304s)\n",
            "image 10/100 /content/yolov5/color_dir/00009.png: 480x640 2 benchs, 6 trees, Done. (0.315s)\n",
            "image 11/100 /content/yolov5/color_dir/00010.png: 480x640 1 bench, 1 rock, 6 trees, Done. (0.331s)\n",
            "image 12/100 /content/yolov5/color_dir/00011.png: 480x640 1 bench, 6 trees, Done. (0.309s)\n",
            "image 13/100 /content/yolov5/color_dir/00012.png: 480x640 1 bench, 1 rock, 4 trees, Done. (0.317s)\n",
            "image 14/100 /content/yolov5/color_dir/00013.png: 480x640 1 bench, 4 trees, Done. (0.333s)\n",
            "image 15/100 /content/yolov5/color_dir/00014.png: 480x640 2 benchs, 6 trees, Done. (0.321s)\n",
            "image 16/100 /content/yolov5/color_dir/00015.png: 480x640 1 bench, 1 rock, 6 trees, Done. (0.315s)\n",
            "image 17/100 /content/yolov5/color_dir/00016.png: 480x640 1 bench, 1 rock, 4 trees, Done. (0.320s)\n",
            "image 18/100 /content/yolov5/color_dir/00017.png: 480x640 1 rock, 5 trees, Done. (0.317s)\n",
            "image 19/100 /content/yolov5/color_dir/00018.png: 480x640 7 trees, Done. (0.312s)\n",
            "image 20/100 /content/yolov5/color_dir/00019.png: 480x640 3 trees, Done. (0.323s)\n",
            "image 21/100 /content/yolov5/color_dir/00020.png: 480x640 1 bench, 1 rock, 4 trees, Done. (0.324s)\n",
            "image 22/100 /content/yolov5/color_dir/00021.png: 480x640 1 bench, 1 rock, 6 trees, Done. (0.316s)\n",
            "image 23/100 /content/yolov5/color_dir/00022.png: 480x640 5 trees, Done. (0.315s)\n",
            "image 24/100 /content/yolov5/color_dir/00023.png: 480x640 6 trees, Done. (0.308s)\n",
            "image 25/100 /content/yolov5/color_dir/00024.png: 480x640 2 trees, Done. (0.327s)\n",
            "image 26/100 /content/yolov5/color_dir/00025.png: 480x640 2 trees, Done. (0.313s)\n",
            "image 27/100 /content/yolov5/color_dir/00026.png: 480x640 1 bench, 2 trees, Done. (0.314s)\n",
            "image 28/100 /content/yolov5/color_dir/00027.png: 480x640 4 trees, Done. (0.324s)\n",
            "image 29/100 /content/yolov5/color_dir/00028.png: 480x640 1 rock, 2 trees, Done. (0.314s)\n",
            "image 30/100 /content/yolov5/color_dir/00029.png: 480x640 1 rock, 2 trees, Done. (0.307s)\n",
            "image 31/100 /content/yolov5/color_dir/00030.png: 480x640 3 trees, Done. (0.323s)\n",
            "image 32/100 /content/yolov5/color_dir/00031.png: 480x640 3 trees, Done. (0.312s)\n",
            "image 33/100 /content/yolov5/color_dir/00032.png: 480x640 3 trees, Done. (0.311s)\n",
            "image 34/100 /content/yolov5/color_dir/00033.png: 480x640 4 trees, Done. (0.312s)\n",
            "image 35/100 /content/yolov5/color_dir/00034.png: 480x640 3 trees, Done. (0.309s)\n",
            "image 36/100 /content/yolov5/color_dir/00035.png: 480x640 3 trees, Done. (0.308s)\n",
            "image 37/100 /content/yolov5/color_dir/00036.png: 480x640 1 rock, 1 tree, Done. (0.311s)\n",
            "image 38/100 /content/yolov5/color_dir/00037.png: 480x640 3 trees, Done. (0.313s)\n",
            "image 39/100 /content/yolov5/color_dir/00038.png: 480x640 3 rocks, 3 trees, Done. (0.320s)\n",
            "image 40/100 /content/yolov5/color_dir/00039.png: 480x640 3 rocks, 2 trees, Done. (0.326s)\n",
            "image 41/100 /content/yolov5/color_dir/00040.png: 480x640 1 rock, 3 trees, Done. (0.315s)\n",
            "image 42/100 /content/yolov5/color_dir/00041.png: 480x640 2 rocks, 4 trees, Done. (0.313s)\n",
            "image 43/100 /content/yolov5/color_dir/00042.png: 480x640 3 rocks, 3 trees, Done. (0.323s)\n",
            "image 44/100 /content/yolov5/color_dir/00043.png: 480x640 3 rocks, 4 trees, Done. (0.313s)\n",
            "image 45/100 /content/yolov5/color_dir/00044.png: 480x640 1 bench, 2 rocks, 3 trees, Done. (0.314s)\n",
            "image 46/100 /content/yolov5/color_dir/00045.png: 480x640 3 rocks, 4 trees, Done. (0.323s)\n",
            "image 47/100 /content/yolov5/color_dir/00046.png: 480x640 5 rocks, 4 trees, Done. (0.330s)\n",
            "image 48/100 /content/yolov5/color_dir/00047.png: 480x640 1 bench, 5 rocks, 6 trees, Done. (0.322s)\n",
            "image 49/100 /content/yolov5/color_dir/00048.png: 480x640 1 bench, 6 rocks, 4 trees, Done. (0.314s)\n",
            "image 50/100 /content/yolov5/color_dir/00049.png: 480x640 1 bench, 6 rocks, 5 trees, Done. (0.322s)\n",
            "image 51/100 /content/yolov5/color_dir/00050.png: 480x640 1 bench, 3 rocks, 5 trees, Done. (0.320s)\n",
            "image 52/100 /content/yolov5/color_dir/00051.png: 480x640 3 rocks, 4 trees, Done. (0.325s)\n",
            "image 53/100 /content/yolov5/color_dir/00052.png: 480x640 2 rocks, 4 trees, Done. (0.312s)\n",
            "image 54/100 /content/yolov5/color_dir/00053.png: 480x640 1 bench, 2 rocks, 4 trees, Done. (0.330s)\n",
            "image 55/100 /content/yolov5/color_dir/00054.png: 480x640 1 bench, 3 rocks, 4 trees, Done. (0.319s)\n",
            "image 56/100 /content/yolov5/color_dir/00055.png: 480x640 2 rocks, 5 trees, Done. (0.309s)\n",
            "image 57/100 /content/yolov5/color_dir/00056.png: 480x640 2 rocks, 5 trees, Done. (0.325s)\n",
            "image 58/100 /content/yolov5/color_dir/00057.png: 480x640 2 rocks, 5 trees, Done. (0.316s)\n",
            "image 59/100 /content/yolov5/color_dir/00058.png: 480x640 1 bench, 3 rocks, 5 trees, Done. (0.327s)\n",
            "image 60/100 /content/yolov5/color_dir/00059.png: 480x640 1 bench, 2 rocks, 4 trees, Done. (0.326s)\n",
            "image 61/100 /content/yolov5/color_dir/00060.png: 480x640 2 rocks, 5 trees, Done. (0.321s)\n",
            "image 62/100 /content/yolov5/color_dir/00061.png: 480x640 2 rocks, 4 trees, Done. (0.321s)\n",
            "image 63/100 /content/yolov5/color_dir/00062.png: 480x640 2 rocks, 2 trees, Done. (0.325s)\n",
            "image 64/100 /content/yolov5/color_dir/00063.png: 480x640 1 bench, 2 rocks, 4 trees, Done. (0.320s)\n",
            "image 65/100 /content/yolov5/color_dir/00064.png: 480x640 1 bench, 2 rocks, 4 trees, Done. (0.315s)\n",
            "image 66/100 /content/yolov5/color_dir/00065.png: 480x640 1 bench, 2 rocks, 4 trees, Done. (0.354s)\n",
            "image 67/100 /content/yolov5/color_dir/00066.png: 480x640 1 bench, 2 rocks, 2 trees, Done. (0.368s)\n",
            "image 68/100 /content/yolov5/color_dir/00067.png: 480x640 2 rocks, 2 trees, Done. (0.376s)\n",
            "image 69/100 /content/yolov5/color_dir/00068.png: 480x640 3 rocks, 2 trees, Done. (0.319s)\n",
            "image 70/100 /content/yolov5/color_dir/00069.png: 480x640 1 bench, 4 rocks, 3 trees, Done. (0.320s)\n",
            "image 71/100 /content/yolov5/color_dir/00070.png: 480x640 1 bench, 5 rocks, 3 trees, Done. (0.333s)\n",
            "image 72/100 /content/yolov5/color_dir/00071.png: 480x640 1 bench, 3 rocks, 4 trees, Done. (0.310s)\n",
            "image 73/100 /content/yolov5/color_dir/00072.png: 480x640 1 bench, 5 rocks, 4 trees, Done. (0.314s)\n",
            "image 74/100 /content/yolov5/color_dir/00073.png: 480x640 1 bench, 4 rocks, 2 trees, Done. (0.325s)\n",
            "image 75/100 /content/yolov5/color_dir/00074.png: 480x640 1 bench, 5 rocks, 4 trees, Done. (0.310s)\n",
            "image 76/100 /content/yolov5/color_dir/00075.png: 480x640 1 bench, 1 bush, 4 rocks, 4 trees, Done. (0.314s)\n",
            "image 77/100 /content/yolov5/color_dir/00076.png: 480x640 1 bench, 1 bush, 3 rocks, 3 trees, Done. (0.329s)\n",
            "image 78/100 /content/yolov5/color_dir/00077.png: 480x640 1 bench, 1 bush, 3 rocks, 3 trees, Done. (0.309s)\n",
            "image 79/100 /content/yolov5/color_dir/00078.png: 480x640 1 bench, 1 bush, 3 rocks, 2 trees, Done. (0.314s)\n",
            "image 80/100 /content/yolov5/color_dir/00079.png: 480x640 1 bench, 1 bush, 1 rock, 1 tree, Done. (0.327s)\n",
            "image 81/100 /content/yolov5/color_dir/00080.png: 480x640 1 bench, 1 rock, 3 trees, Done. (0.305s)\n",
            "image 82/100 /content/yolov5/color_dir/00081.png: 480x640 1 bench, 1 tree, Done. (0.319s)\n",
            "image 83/100 /content/yolov5/color_dir/00082.png: 480x640 1 bench, 1 rock, 1 tree, Done. (0.318s)\n",
            "image 84/100 /content/yolov5/color_dir/00083.png: 480x640 1 bench, 1 rock, 2 trees, Done. (0.306s)\n",
            "image 85/100 /content/yolov5/color_dir/00084.png: 480x640 1 bench, 3 rocks, 2 trees, Done. (0.321s)\n",
            "image 86/100 /content/yolov5/color_dir/00085.png: 480x640 2 benchs, 1 bush, 3 rocks, 3 trees, Done. (0.313s)\n",
            "image 87/100 /content/yolov5/color_dir/00086.png: 480x640 2 benchs, 2 rocks, 4 trees, Done. (0.311s)\n",
            "image 88/100 /content/yolov5/color_dir/00087.png: 480x640 2 benchs, 2 rocks, 5 trees, Done. (0.478s)\n",
            "image 89/100 /content/yolov5/color_dir/00088.png: 480x640 2 benchs, 1 rock, 5 trees, Done. (0.901s)\n",
            "image 90/100 /content/yolov5/color_dir/00089.png: 480x640 2 benchs, 2 rocks, 6 trees, Done. (0.892s)\n",
            "image 91/100 /content/yolov5/color_dir/00090.png: 480x640 1 bench, 2 rocks, 6 trees, Done. (0.811s)\n",
            "image 92/100 /content/yolov5/color_dir/00091.png: 480x640 2 benchs, 2 rocks, 6 trees, Done. (0.356s)\n",
            "image 93/100 /content/yolov5/color_dir/00092.png: 480x640 1 bench, 2 rocks, 4 trees, Done. (0.342s)\n",
            "image 94/100 /content/yolov5/color_dir/00093.png: 480x640 1 bench, 3 rocks, 6 trees, Done. (0.407s)\n",
            "image 95/100 /content/yolov5/color_dir/00094.png: 480x640 1 bench, 3 rocks, 8 trees, Done. (0.342s)\n",
            "image 96/100 /content/yolov5/color_dir/00095.png: 480x640 1 bench, 3 rocks, 6 trees, Done. (0.344s)\n",
            "image 97/100 /content/yolov5/color_dir/00096.png: 480x640 2 benchs, 4 rocks, 6 trees, Done. (0.383s)\n",
            "image 98/100 /content/yolov5/color_dir/00097.png: 480x640 2 benchs, 3 rocks, 5 trees, Done. (0.345s)\n",
            "image 99/100 /content/yolov5/color_dir/00098.png: 480x640 1 bench, 3 rocks, 4 trees, Done. (0.358s)\n",
            "image 100/100 /content/yolov5/color_dir/00099.png: 480x640 1 bench, 3 rocks, 4 trees, Done. (0.360s)\n",
            "Speed: 2.0ms pre-process, 341.5ms inference, 1.0ms NMS per image at shape (1, 3, 640, 640)\n",
            "Results saved to \u001b[1mruns/detect/exp\u001b[0m\n",
            "100 labels saved to runs/detect/exp/labels\n"
          ]
        }
      ]
    },
    {
      "cell_type": "code",
      "source": [
        "import numpy as np\n",
        "\n",
        "def parse_lines(path, shape) -> np.ndarray:\n",
        "    lst = []\n",
        "    H, W = shape\n",
        "    with open(path) as f:\n",
        "        Lines = f.readlines()\n",
        "        for line in Lines:\n",
        "            _, x, y, w, h = line.split(\" \")\n",
        "            lst.append([int(float(x) * W) - int(float(w) * W) // 2, int(float(y) * H) - int(float(h) * H) // 2,\n",
        "                        int(float(w) * W), int(float(h) * H)])\n",
        "    return np.asanyarray(lst)\n",
        "\n",
        "\n",
        "def get_depth(xywh, im):\n",
        "    x, y, w, h = xywh\n",
        "    im = np.round(im, 1)\n",
        "    bins = np.sort(np.unique(im))\n",
        "    ind = np.where(bins >= 1)\n",
        "    if len(ind) != 0:\n",
        "      ind = ind[0][0]\n",
        "    else:\n",
        "      ind = 0\n",
        "\n",
        "    bins1 = np.round(bins[0:ind])\n",
        "\n",
        "    bins2 = np.round(bins[ind:])\n",
        "    bins = np.concatenate((bins1, bins2))\n",
        "    bins = np.unique(bins)\n",
        "\n",
        "\n",
        "    hist,nums = np.histogram(im[y:y + h, x:x + w], bins=bins)\n",
        "    for index, val in enumerate(nums[:-1]):\n",
        "      if hist[index] > h*w*1/10:\n",
        "          return val, x + w // 2, y + h // 2\n",
        "    return None\n",
        "\n",
        "\n",
        "def make_decision(res_final, center_dot):\n",
        "  if res_final[0] < 3:\n",
        "    if res_final[1] < 320 : return \"right\"\n",
        "    else: return \"left\"\n",
        "  else:\n",
        "    left = 0\n",
        "    right = 0\n",
        "    for x,y in center_dot:\n",
        "      if x != res_final[1] and y!=res_final[2]:\n",
        "        if x > res_final[1]: left +=1\n",
        "        else: right += 1\n",
        "    if right>left:\n",
        "      return \"right\"\n",
        "    else: return \"left\""
      ],
      "metadata": {
        "id": "99IAiV2Ftgfm"
      },
      "execution_count": 22,
      "outputs": []
    },
    {
      "cell_type": "code",
      "source": [
        "%cd /content/yolov5\n",
        "try:\n",
        "  %rm -r final_images\n",
        "except:\n",
        "  pass\n",
        "%mkdir -m777 final_images\n"
      ],
      "metadata": {
        "colab": {
          "base_uri": "https://localhost:8080/"
        },
        "id": "C3Fxd6V5fujY",
        "outputId": "23592859-63d4-479a-cb4e-0ac8eff8286a"
      },
      "execution_count": 23,
      "outputs": [
        {
          "output_type": "stream",
          "name": "stdout",
          "text": [
            "/content/yolov5\n"
          ]
        }
      ]
    },
    {
      "cell_type": "code",
      "source": [
        "from IPython.core.display import Math\n",
        "import cv2\n",
        "from osgeo import gdal\n",
        "import matplotlib.pyplot as plt\n",
        "import math\n",
        "\n",
        "i = 0\n",
        "while i<number_of_frames:\n",
        "  try:\n",
        "    if i % 100 == 0:\n",
        "      print(\"in image number: \", i)\n",
        "    color_image = cv2.imread(\"/content/yolov5/color_dir/\" + str(i).zfill(5) + \".png\")\n",
        "\n",
        "    dataset = gdal.Open(r\"/content/yolov5/depth_dir/\" + str(i).zfill(5) + \".tif\")\n",
        "    band1 = dataset.GetRasterBand(1)\n",
        "    norm_depth_image = band1.ReadAsArray()\n",
        "    depth_image = (norm_depth_image * (minmax_arr[i][1] - minmax_arr[i][0])) + minmax_arr[i][0]\n",
        "    # depth_image = depth_image.astype(int)\n",
        "\n",
        "\n",
        "    img = color_image\n",
        "\n",
        "    rects = parse_lines(\"/content/yolov5/runs/detect/exp/labels/\" + str(i).zfill(5) + \".txt\", depth_image.shape)\n",
        "    res_final = [math.inf,0,0]\n",
        "    center_dot = []\n",
        "    start_point_left = (150, color_image.shape[0])\n",
        "    end_point_left = (200, 300)\n",
        "    start_point_right = (color_image.shape[1]-200,300)\n",
        "    end_point_right = (color_image.shape[1]-150, color_image.shape[0])\n",
        "    img = cv2.line(img, start_point_left, end_point_left, (255, 0, 0) , 4)\n",
        "    img = cv2.line(img, start_point_right, end_point_right, (255, 0, 0) , 4)\n",
        "    for rec in rects:\n",
        "        res = None\n",
        "        res = get_depth(rec, depth_image)\n",
        "        \n",
        "        if res is not None :\n",
        "          center_cord =( rec[0] + rec[2] // 2, rec[1] + rec[3] // 2)\n",
        "          z_depth = res[0]\n",
        "          if res[0]>=1: z_depth = int(res[0])\n",
        "\n",
        "          if z_depth > 0.05:\n",
        "            cv2.putText(img=img, text=str(z_depth)+\" m\",org=center_cord,\n",
        "                      fontFace=cv2.FONT_HERSHEY_DUPLEX, fontScale=0.6, color=(0, 0, 0), thickness=5)\n",
        "            cv2.putText(img=img, text=str(z_depth)+\" m\",org=center_cord,\n",
        "                      fontFace=cv2.FONT_HERSHEY_DUPLEX, fontScale=0.6, color=(255, 255, 255), thickness=2)\n",
        "          if color_image.shape[1]-175 > rec[0]+rec[2] > 175 or 175 < rec[0] < color_image.shape[1]-175:\n",
        "              center_dot.append([rec[0]+rec[2]//2, rec[1] + rec[3]//2])\n",
        "              z, x_center, y_center = res\n",
        "\n",
        "              if z < res_final[0]:\n",
        "                  res_final = (z,x_center,y_center)\n",
        "    if res_final[1] != 0 and res_final[2] != 0:  # There is any relevant data\n",
        "        center_dot = np.asanyarray(center_dot)\n",
        "\n",
        "        RISKY_LENGTH = 5\n",
        "        if 0.05 < res_final[0] < RISKY_LENGTH:\n",
        "          dir = make_decision(res_final, center_dot)\n",
        "          dx = 100\n",
        "          dy = -150\n",
        "\n",
        "          if res_final[0] < RISKY_LENGTH//2:\n",
        "            dx = 150\n",
        "            dy = 0\n",
        "\n",
        "          if dir == \"left\": \n",
        "            dx *= -1\n",
        "          img = cv2.arrowedLine(img, (320, 450), (320+dx, 450+dy),(0,0, 255), 10)\n",
        "\n",
        "    # plt.imshow(img)\n",
        "    # plt.show()\n",
        "  \n",
        "    cv2.imwrite(\"/content/yolov5/final_images/\" + str(i).zfill(5) + \".png\", img)\n",
        "  except FileNotFoundError:\n",
        "    pass  \n",
        "  finally:\n",
        "    i+=1\n",
        "    pass"
      ],
      "metadata": {
        "colab": {
          "base_uri": "https://localhost:8080/"
        },
        "id": "I2TQY942VjUn",
        "outputId": "09630bb9-f8f9-4661-be53-89a0e2d47f92"
      },
      "execution_count": 24,
      "outputs": [
        {
          "output_type": "stream",
          "name": "stdout",
          "text": [
            "in image number:  0\n"
          ]
        }
      ]
    },
    {
      "cell_type": "code",
      "source": [
        "import cv2\n",
        "import os\n",
        "\n",
        "image_folder = '/content/yolov5/final_images'\n",
        "video_name = '/content/yolov5/video.avi'\n",
        "\n",
        "images = [img for img in os.listdir(image_folder) if img.endswith(\".png\")]\n",
        "frame = cv2.imread(os.path.join(image_folder, images[0]))\n",
        "height, width, layers = frame.shape\n",
        "\n",
        "video = cv2.VideoWriter(video_name, 0, 5, (width,height))\n",
        "for g in range(number_of_frames):\n",
        "  image  =str(g).zfill(5) + \".png\"\n",
        "  video.write(cv2.imread(os.path.join(image_folder, image)))\n",
        "\n",
        "cv2.destroyAllWindows()\n",
        "video.release()"
      ],
      "metadata": {
        "id": "YQqQz1nfYF5s"
      },
      "execution_count": 26,
      "outputs": []
    },
    {
      "cell_type": "code",
      "source": [
        "video_path = video_name\n",
        "video_convert_path =  '/content/yolov5/final_video.mp4'\n",
        "os.system(f\"ffmpeg -i {video_path} -vcodec libx264 {video_convert_path}\")"
      ],
      "metadata": {
        "colab": {
          "base_uri": "https://localhost:8080/"
        },
        "id": "AtPzqa63HWTX",
        "outputId": "6d9922a2-c31e-46d6-d4c3-027402095fd3"
      },
      "execution_count": 28,
      "outputs": [
        {
          "output_type": "execute_result",
          "data": {
            "text/plain": [
              "0"
            ]
          },
          "metadata": {},
          "execution_count": 28
        }
      ]
    },
    {
      "cell_type": "code",
      "source": [
        "from google.colab import files\n",
        "files.download(video_convert_path)"
      ],
      "metadata": {
        "colab": {
          "base_uri": "https://localhost:8080/",
          "height": 17
        },
        "id": "6yKz9K50Gfxo",
        "outputId": "c85704ca-1558-484f-d01d-78c40741548a"
      },
      "execution_count": 29,
      "outputs": [
        {
          "output_type": "display_data",
          "data": {
            "text/plain": [
              "<IPython.core.display.Javascript object>"
            ],
            "application/javascript": [
              "\n",
              "    async function download(id, filename, size) {\n",
              "      if (!google.colab.kernel.accessAllowed) {\n",
              "        return;\n",
              "      }\n",
              "      const div = document.createElement('div');\n",
              "      const label = document.createElement('label');\n",
              "      label.textContent = `Downloading \"${filename}\": `;\n",
              "      div.appendChild(label);\n",
              "      const progress = document.createElement('progress');\n",
              "      progress.max = size;\n",
              "      div.appendChild(progress);\n",
              "      document.body.appendChild(div);\n",
              "\n",
              "      const buffers = [];\n",
              "      let downloaded = 0;\n",
              "\n",
              "      const channel = await google.colab.kernel.comms.open(id);\n",
              "      // Send a message to notify the kernel that we're ready.\n",
              "      channel.send({})\n",
              "\n",
              "      for await (const message of channel.messages) {\n",
              "        // Send a message to notify the kernel that we're ready.\n",
              "        channel.send({})\n",
              "        if (message.buffers) {\n",
              "          for (const buffer of message.buffers) {\n",
              "            buffers.push(buffer);\n",
              "            downloaded += buffer.byteLength;\n",
              "            progress.value = downloaded;\n",
              "          }\n",
              "        }\n",
              "      }\n",
              "      const blob = new Blob(buffers, {type: 'application/binary'});\n",
              "      const a = document.createElement('a');\n",
              "      a.href = window.URL.createObjectURL(blob);\n",
              "      a.download = filename;\n",
              "      div.appendChild(a);\n",
              "      a.click();\n",
              "      div.remove();\n",
              "    }\n",
              "  "
            ]
          },
          "metadata": {}
        },
        {
          "output_type": "display_data",
          "data": {
            "text/plain": [
              "<IPython.core.display.Javascript object>"
            ],
            "application/javascript": [
              "download(\"download_1345c55a-6cbf-4cf8-9582-55867da816dd\", \"video1.mp4\", 5599799)"
            ]
          },
          "metadata": {}
        }
      ]
    },
    {
      "cell_type": "code",
      "source": [
        ""
      ],
      "metadata": {
        "id": "Baw6TngmH6gh"
      },
      "execution_count": null,
      "outputs": []
    }
  ]
}